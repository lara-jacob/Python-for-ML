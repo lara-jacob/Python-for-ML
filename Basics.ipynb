{
 "cells": [
  {
   "cell_type": "markdown",
   "id": "d153b33d-6da4-40ff-b244-5d80506cea1d",
   "metadata": {},
   "source": [
    "# BASICS OF `PYTHON` PROGRAMMING\n",
    "\n",
    "In this notebook we will explain basic `Python` for Machine Learning"
   ]
  },
  {
   "cell_type": "markdown",
   "id": "e04c0a68-07f6-4dde-8fbc-0bf18517424d",
   "metadata": {},
   "source": [
    "## DERIVED DATA TYPES IN `PYTHON`"
   ]
  },
  {
   "cell_type": "markdown",
   "id": "dade479d-8d6e-4a93-9db0-5a0392cc9977",
   "metadata": {},
   "source": [
    ">**NOTE:** IN `PYTHON` `int`,`float`,`str` ETC ARE ATOMIC DATA TYPES AND NO DECLARATION IS REQUIRED"
   ]
  },
  {
   "cell_type": "markdown",
   "id": "c754da49-d872-4ba3-bfb5-76743714d7ad",
   "metadata": {},
   "source": [
    "## LIST"
   ]
  },
  {
   "cell_type": "code",
   "execution_count": 11,
   "id": "03355c4a-0eeb-4d34-b6a7-9e35c38176c8",
   "metadata": {},
   "outputs": [],
   "source": [
    "my_list=[1,2,3]"
   ]
  },
  {
   "cell_type": "code",
   "execution_count": 13,
   "id": "3a2e8dc3-d8cc-486f-a659-660bfa0db278",
   "metadata": {},
   "outputs": [
    {
     "data": {
      "text/plain": [
       "[1, 2, 3]"
      ]
     },
     "execution_count": 13,
     "metadata": {},
     "output_type": "execute_result"
    }
   ],
   "source": [
    "my_list"
   ]
  },
  {
   "cell_type": "code",
   "execution_count": 14,
   "id": "2fdbe3a0-1813-42aa-a96b-54537548308a",
   "metadata": {},
   "outputs": [
    {
     "data": {
      "text/plain": [
       "1"
      ]
     },
     "execution_count": 14,
     "metadata": {},
     "output_type": "execute_result"
    }
   ],
   "source": [
    "my_list[0]"
   ]
  },
  {
   "cell_type": "code",
   "execution_count": 15,
   "id": "56fbce20-5437-4f7c-9a9c-541ae63808f2",
   "metadata": {},
   "outputs": [
    {
     "data": {
      "text/plain": [
       "[1]"
      ]
     },
     "execution_count": 15,
     "metadata": {},
     "output_type": "execute_result"
    }
   ],
   "source": [
    "my_list[:1]"
   ]
  },
  {
   "cell_type": "code",
   "execution_count": 16,
   "id": "a9fc956d-cfad-4d40-b646-195d4218745c",
   "metadata": {},
   "outputs": [],
   "source": [
    "my_list=['a','b','c','d']"
   ]
  },
  {
   "cell_type": "code",
   "execution_count": 17,
   "id": "4960bac4-2630-422e-af91-8856d20da46e",
   "metadata": {},
   "outputs": [
    {
     "data": {
      "text/plain": [
       "['a']"
      ]
     },
     "execution_count": 17,
     "metadata": {},
     "output_type": "execute_result"
    }
   ],
   "source": [
    "my_list[:1]"
   ]
  },
  {
   "cell_type": "code",
   "execution_count": 19,
   "id": "1cc3f515-70ed-499d-a44f-83fb1bd306e1",
   "metadata": {},
   "outputs": [
    {
     "data": {
      "text/plain": [
       "['a', 'b']"
      ]
     },
     "execution_count": 19,
     "metadata": {},
     "output_type": "execute_result"
    }
   ],
   "source": [
    "my_list[:2]"
   ]
  },
  {
   "cell_type": "code",
   "execution_count": 21,
   "id": "596cd554-3ad4-4ad6-878f-75bf305f9f54",
   "metadata": {},
   "outputs": [],
   "source": [
    "my_list[0]='new'"
   ]
  },
  {
   "cell_type": "code",
   "execution_count": 22,
   "id": "520be066-150b-41c1-8e0d-fc6d094544c4",
   "metadata": {},
   "outputs": [
    {
     "data": {
      "text/plain": [
       "['new', 'b', 'c', 'd']"
      ]
     },
     "execution_count": 22,
     "metadata": {},
     "output_type": "execute_result"
    }
   ],
   "source": [
    "my_list"
   ]
  },
  {
   "cell_type": "code",
   "execution_count": 23,
   "id": "dcc7989e-3273-411f-8723-5802b48a1ca4",
   "metadata": {},
   "outputs": [],
   "source": [
    "my_list.append('e')"
   ]
  },
  {
   "cell_type": "code",
   "execution_count": 24,
   "id": "686838bc-f443-49a7-b8a3-20960d8a05a6",
   "metadata": {},
   "outputs": [
    {
     "data": {
      "text/plain": [
       "['new', 'b', 'c', 'd', 'e']"
      ]
     },
     "execution_count": 24,
     "metadata": {},
     "output_type": "execute_result"
    }
   ],
   "source": [
    "my_list"
   ]
  },
  {
   "cell_type": "markdown",
   "id": "cc42074d-a29f-4a91-9d06-32910bff19e7",
   "metadata": {},
   "source": [
    "## TUPLE"
   ]
  },
  {
   "cell_type": "code",
   "execution_count": 25,
   "id": "bfbce16d-6af6-4a40-a38e-07da73c4adfe",
   "metadata": {},
   "outputs": [],
   "source": [
    "t=(1,2,3)"
   ]
  },
  {
   "cell_type": "code",
   "execution_count": 26,
   "id": "3d118b7f-0ad6-409e-8335-1a4066cce991",
   "metadata": {},
   "outputs": [
    {
     "data": {
      "text/plain": [
       "(1, 2, 3)"
      ]
     },
     "execution_count": 26,
     "metadata": {},
     "output_type": "execute_result"
    }
   ],
   "source": [
    "t"
   ]
  },
  {
   "cell_type": "markdown",
   "id": "09993226-525b-4225-8933-c73b544de46c",
   "metadata": {},
   "source": [
    "## DICTIONARY"
   ]
  },
  {
   "cell_type": "code",
   "execution_count": 60,
   "id": "ff18f096-2ce5-46be-9111-cef4f4ee218b",
   "metadata": {},
   "outputs": [],
   "source": [
    "d={'Name':'Lara','age':20}"
   ]
  },
  {
   "cell_type": "code",
   "execution_count": 28,
   "id": "c5340a0b-3ef6-4c5f-b5b5-32a9eab87100",
   "metadata": {},
   "outputs": [
    {
     "data": {
      "text/plain": [
       "{'Name': 'Lara', 'age': '20'}"
      ]
     },
     "execution_count": 28,
     "metadata": {},
     "output_type": "execute_result"
    }
   ],
   "source": [
    "d"
   ]
  },
  {
   "cell_type": "code",
   "execution_count": 29,
   "id": "016c2ef2-8363-4a9a-95e4-4370fa5c659e",
   "metadata": {},
   "outputs": [
    {
     "data": {
      "text/plain": [
       "'20'"
      ]
     },
     "execution_count": 29,
     "metadata": {},
     "output_type": "execute_result"
    }
   ],
   "source": [
    "d['age']"
   ]
  },
  {
   "cell_type": "code",
   "execution_count": 31,
   "id": "b7c95f10-eb97-4909-923e-35d11cbece21",
   "metadata": {},
   "outputs": [
    {
     "data": {
      "text/plain": [
       "'20'"
      ]
     },
     "execution_count": 31,
     "metadata": {},
     "output_type": "execute_result"
    }
   ],
   "source": [
    "d['age']"
   ]
  },
  {
   "cell_type": "code",
   "execution_count": 32,
   "id": "b17f616a-1c4e-4706-baf2-64ca27406efb",
   "metadata": {},
   "outputs": [
    {
     "data": {
      "text/plain": [
       "'Lara'"
      ]
     },
     "execution_count": 32,
     "metadata": {},
     "output_type": "execute_result"
    }
   ],
   "source": [
    "d['Name']"
   ]
  },
  {
   "cell_type": "code",
   "execution_count": 33,
   "id": "ce57620b-38ce-4e32-984f-a3f7b94fb924",
   "metadata": {},
   "outputs": [
    {
     "data": {
      "text/plain": [
       "{1, 2, 3, 4, 5}"
      ]
     },
     "execution_count": 33,
     "metadata": {},
     "output_type": "execute_result"
    }
   ],
   "source": [
    "{1,2,3,1,1,1,1,2,2,4,5}"
   ]
  },
  {
   "cell_type": "code",
   "execution_count": 36,
   "id": "35fb1cd4-5b2e-4f0f-94b1-9236350e65ba",
   "metadata": {},
   "outputs": [],
   "source": [
    "def times(var):\n",
    "    return var*2"
   ]
  },
  {
   "cell_type": "code",
   "execution_count": 38,
   "id": "3f4a6119-7b52-4b39-8b67-744444fba35b",
   "metadata": {},
   "outputs": [
    {
     "data": {
      "text/plain": [
       "20"
      ]
     },
     "execution_count": 38,
     "metadata": {},
     "output_type": "execute_result"
    }
   ],
   "source": [
    "times(10)"
   ]
  },
  {
   "cell_type": "code",
   "execution_count": 40,
   "id": "7a41de4b-ebba-4c14-9391-dbdc37a2eb33",
   "metadata": {},
   "outputs": [],
   "source": [
    "times=lambda var:var*2"
   ]
  },
  {
   "cell_type": "code",
   "execution_count": 43,
   "id": "33c64c52-3be5-4149-8f27-d08ef6e13a27",
   "metadata": {},
   "outputs": [
    {
     "name": "stdout",
     "output_type": "stream",
     "text": [
      "6\n"
     ]
    }
   ],
   "source": [
    "print(times(3))"
   ]
  },
  {
   "cell_type": "code",
   "execution_count": 44,
   "id": "457fd82b-8e61-4bc7-baae-205027d31132",
   "metadata": {},
   "outputs": [],
   "source": [
    "x=[1,2,3,4]"
   ]
  },
  {
   "cell_type": "code",
   "execution_count": 46,
   "id": "7dac373e-2dcd-4f00-8766-24de3f417228",
   "metadata": {},
   "outputs": [
    {
     "name": "stdout",
     "output_type": "stream",
     "text": [
      "[1, 4, 9, 16]\n"
     ]
    }
   ],
   "source": [
    "out=[]\n",
    "for item in x:\n",
    "    out.append(item**2)\n",
    "print(out)    "
   ]
  },
  {
   "cell_type": "code",
   "execution_count": 48,
   "id": "c2fc87f9-8189-4771-aecf-2f5e7d921995",
   "metadata": {},
   "outputs": [
    {
     "data": {
      "text/plain": [
       "[1, 4, 9, 16]"
      ]
     },
     "execution_count": 48,
     "metadata": {},
     "output_type": "execute_result"
    }
   ],
   "source": [
    "#LIST COMPREHENSION\n",
    "[item**2 for item in x]"
   ]
  },
  {
   "cell_type": "code",
   "execution_count": 53,
   "id": "0fed00cc-e677-4837-95a0-7b930cbb9cee",
   "metadata": {},
   "outputs": [
    {
     "name": "stdout",
     "output_type": "stream",
     "text": [
      "My Name is: Lara,My number is: 18\n"
     ]
    }
   ],
   "source": [
    "print(\"My Name is: {0},My number is: {1}\".format('Lara',18))"
   ]
  },
  {
   "cell_type": "code",
   "execution_count": 54,
   "id": "43911786-8083-4b90-ba02-cb4362467fcd",
   "metadata": {},
   "outputs": [
    {
     "name": "stdout",
     "output_type": "stream",
     "text": [
      "My Name is: Lara,My number is: 18\n"
     ]
    }
   ],
   "source": [
    "print(\"My Name is: {one},My number is: {two}\".format(one='Lara',two=18))"
   ]
  },
  {
   "cell_type": "code",
   "execution_count": null,
   "id": "b2bee91b-7cc2-4522-8d40-044a93c3683e",
   "metadata": {},
   "outputs": [],
   "source": []
  }
 ],
 "metadata": {
  "kernelspec": {
   "display_name": "Python 3 (Intel® oneAPI 2023.2)",
   "language": "python",
   "name": "c009-intel_distribution_of_python_3_oneapi-beta05-python"
  },
  "language_info": {
   "codemirror_mode": {
    "name": "ipython",
    "version": 3
   },
   "file_extension": ".py",
   "mimetype": "text/x-python",
   "name": "python",
   "nbconvert_exporter": "python",
   "pygments_lexer": "ipython3",
   "version": "3.9.16"
  }
 },
 "nbformat": 4,
 "nbformat_minor": 5
}
